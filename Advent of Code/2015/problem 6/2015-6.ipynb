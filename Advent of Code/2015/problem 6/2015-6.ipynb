{
 "cells": [
  {
   "cell_type": "code",
   "execution_count": 1,
   "metadata": {},
   "outputs": [],
   "source": [
    "import re   \n",
    "data = open(\"lights.txt\")"
   ]
  },
  {
   "cell_type": "code",
   "execution_count": 2,
   "metadata": {},
   "outputs": [],
   "source": [
    "grid = []\n",
    "size = 1000\n",
    "\n",
    "for row in range(size):\n",
    "        grid.append([])\n",
    "        for col in range(size):\n",
    "            grid[row].append(0)\n",
    "            \n",
    "TURN_ON = \"turn on\"\n",
    "TURN_OFF = \"turn off\"\n",
    "TOGGLE = \"toggle\"\n",
    "\n",
    "def turn_on(x,y):\n",
    "    grid[x][y] += 1\n",
    "    \n",
    "def turn_off(x, y):\n",
    "    if grid[x][y] > 0:\n",
    "        grid[x][y] -=1\n",
    "\n",
    "\n",
    "def toggle(x, y):\n",
    "    grid[x][y] +=2\n",
    "\n",
    "def update(action, from_range, to_range):\n",
    "    for row in range(from_range[0],to_range[0]+1):\n",
    "        for col in range(from_range[1],to_range[1]+1):\n",
    "            action(row,col)\n",
    "\n",
    "for l in data:\n",
    "    coords = re.findall(r'(\\d+,\\d+)', l)\n",
    "    from_range = [int(x) for x in coords[0].split(',')]\n",
    "    to_range = [int(x) for x in coords[1].split(',')]\n",
    "    \n",
    "    if l.startswith(TURN_ON):\n",
    "        update(turn_on, from_range,to_range)\n",
    "    elif l.startswith(TURN_OFF):\n",
    "        update(turn_off, from_range,to_range)\n",
    "    elif l.startswith(TOGGLE):\n",
    "        update(toggle, from_range,to_range)\n"
   ]
  },
  {
   "cell_type": "code",
   "execution_count": 3,
   "metadata": {},
   "outputs": [],
   "source": [
    "total_lights = 0\n",
    "for row in range(size):\n",
    "    for col in range(size):\n",
    "        total_lights += grid[row][col]"
   ]
  },
  {
   "cell_type": "code",
   "execution_count": 4,
   "metadata": {},
   "outputs": [
    {
     "name": "stdout",
     "output_type": "stream",
     "text": [
      "17836115\n"
     ]
    }
   ],
   "source": [
    "print(total_lights)"
   ]
  },
  {
   "cell_type": "code",
   "execution_count": null,
   "metadata": {},
   "outputs": [],
   "source": []
  }
 ],
 "metadata": {
  "kernelspec": {
   "display_name": "Python 3",
   "language": "python",
   "name": "python3"
  },
  "language_info": {
   "codemirror_mode": {
    "name": "ipython",
    "version": 3
   },
   "file_extension": ".py",
   "mimetype": "text/x-python",
   "name": "python",
   "nbconvert_exporter": "python",
   "pygments_lexer": "ipython3",
   "version": "3.6.5"
  }
 },
 "nbformat": 4,
 "nbformat_minor": 2
}
