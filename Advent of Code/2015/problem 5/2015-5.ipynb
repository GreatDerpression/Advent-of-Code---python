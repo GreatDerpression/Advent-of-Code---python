{
 "cells": [
  {
   "cell_type": "code",
   "execution_count": 1,
   "metadata": {},
   "outputs": [],
   "source": [
    "import re\n",
    "data = open(\"words.txt\")"
   ]
  },
  {
   "cell_type": "code",
   "execution_count": 2,
   "metadata": {},
   "outputs": [],
   "source": [
    "nice_counter = 0\n",
    "improved_nice_counter = 0\n",
    "naughty_pairs = ['ab', 'cd', 'pq', 'xy']\n",
    "\n",
    "def nice_string(str):\n",
    "    if len(re.sub(r'[^aeiou]', '', str)) < 3: # searched for at least 3 vowels\n",
    "        return False\n",
    "\n",
    "    if not re.search(r'(.)\\1', str): # searches for at least 1 pair\n",
    "        return False\n",
    " \n",
    "    for np in naughty_pairs: # checks to make sure the naughty pairs are not in the string\n",
    "        if np in str:\n",
    "              return False\n",
    " \n",
    "    return True\n",
    " \n",
    "def improved_nice_string(str):\n",
    "    if not re.search(r'(.)(.).*\\1\\2', str): # checks for pairs repeated at least once over but do not overlap on one another ex. abab, cfgcf\n",
    "        return False\n",
    "    \n",
    "    if not re.search(r'(.).\\1', str): # checks for a combination where the two of the same letter is interspersed by one more letter ex. axa, sbdb \n",
    "        return False\n",
    "    \n",
    "    return True\n",
    "\n",
    "\n",
    "for l in data:\n",
    "    if nice_string(l):\n",
    "        nice_counter += 1\n",
    "      \n",
    "    if improved_nice_string(l):\n",
    "        improved_nice_counter += 1"
   ]
  },
  {
   "cell_type": "code",
   "execution_count": 3,
   "metadata": {},
   "outputs": [
    {
     "name": "stdout",
     "output_type": "stream",
     "text": [
      "236\n",
      "51\n"
     ]
    }
   ],
   "source": [
    "print(nice_counter)\n",
    "print(improved_nice_counter)"
   ]
  },
  {
   "cell_type": "code",
   "execution_count": null,
   "metadata": {},
   "outputs": [],
   "source": []
  }
 ],
 "metadata": {
  "kernelspec": {
   "display_name": "Python 3",
   "language": "python",
   "name": "python3"
  },
  "language_info": {
   "codemirror_mode": {
    "name": "ipython",
    "version": 3
   },
   "file_extension": ".py",
   "mimetype": "text/x-python",
   "name": "python",
   "nbconvert_exporter": "python",
   "pygments_lexer": "ipython3",
   "version": "3.6.5"
  }
 },
 "nbformat": 4,
 "nbformat_minor": 2
}
