{
 "cells": [
  {
   "cell_type": "code",
   "execution_count": 1,
   "metadata": {},
   "outputs": [],
   "source": [
    "import re, itertools\n",
    "data = open(\"distances.txt\")\n",
    "distances = {}\n",
    "\n",
    "for l in data.read().split('\\n'):\n",
    "\n",
    "    c1,c2,dist = re.match(r'(\\w+) to (\\w+) = (\\d+)', l).groups()\n",
    "    \n",
    "    dist = int(dist)\n",
    "    distances[c1+'-'+c2] = dist\n",
    "    distances[c2+'-'+c1] = dist\n",
    "    \n",
    "cities = list(set('-'.join(distances.keys()).split('-')))\n",
    "\n",
    "d_min = min((sum((distances[c1+'-'+c2] for c1, c2 in zip(route, route[1:]))) for route in itertools.permutations(cities, len(cities))))\n",
    "d_max = max((sum((distances[c1+'-'+c2] for c1, c2 in zip(route, route[1:]))) for route in itertools.permutations(cities, len(cities))))"
   ]
  },
  {
   "cell_type": "code",
   "execution_count": 2,
   "metadata": {},
   "outputs": [
    {
     "name": "stdout",
     "output_type": "stream",
     "text": [
      "141 736\n"
     ]
    }
   ],
   "source": [
    "print(d_min, d_max)"
   ]
  }
 ],
 "metadata": {
  "kernelspec": {
   "display_name": "Python 3",
   "language": "python",
   "name": "python3"
  },
  "language_info": {
   "codemirror_mode": {
    "name": "ipython",
    "version": 3
   },
   "file_extension": ".py",
   "mimetype": "text/x-python",
   "name": "python",
   "nbconvert_exporter": "python",
   "pygments_lexer": "ipython3",
   "version": "3.6.5"
  }
 },
 "nbformat": 4,
 "nbformat_minor": 2
}
