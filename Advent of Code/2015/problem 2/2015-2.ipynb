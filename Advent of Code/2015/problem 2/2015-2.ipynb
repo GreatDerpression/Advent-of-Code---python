{
 "cells": [
  {
   "cell_type": "code",
   "execution_count": 1,
   "metadata": {},
   "outputs": [],
   "source": [
    "import re    \n",
    "\n",
    "data = open(\"presents.txt\")\n",
    "wrapping = 0\n",
    "ribbon = 0\n",
    "for l in data:\n",
    "    l = [int(s) for s in re.findall(r'\\d+',l)]\n",
    "    side1 = l[0]*l[1]\n",
    "    side2 = l[0]*l[2]\n",
    "    side3 = l[1]*l[2]\n",
    "    slack = min(side1,side2,side3)\n",
    "    wrapping += 2*(side1+side2+side3)+slack\n",
    "    \n",
    "    ribbon += l[0]*l[1]*l[2]\n",
    "    \n",
    "    side1 = min(l)\n",
    "    l.remove(side1)\n",
    "    side2 = min(l)\n",
    "    \n",
    "    ribbon += 2*(side1+side2 )"
   ]
  },
  {
   "cell_type": "code",
   "execution_count": 2,
   "metadata": {},
   "outputs": [
    {
     "name": "stdout",
     "output_type": "stream",
     "text": [
      "1606483\n",
      "3842356\n"
     ]
    }
   ],
   "source": [
    "print (wrapping)\n",
    "print (ribbon)"
   ]
  },
  {
   "cell_type": "code",
   "execution_count": null,
   "metadata": {},
   "outputs": [],
   "source": []
  }
 ],
 "metadata": {
  "kernelspec": {
   "display_name": "Python 3",
   "language": "python",
   "name": "python3"
  },
  "language_info": {
   "codemirror_mode": {
    "name": "ipython",
    "version": 3
   },
   "file_extension": ".py",
   "mimetype": "text/x-python",
   "name": "python",
   "nbconvert_exporter": "python",
   "pygments_lexer": "ipython3",
   "version": "3.6.5"
  }
 },
 "nbformat": 4,
 "nbformat_minor": 2
}
