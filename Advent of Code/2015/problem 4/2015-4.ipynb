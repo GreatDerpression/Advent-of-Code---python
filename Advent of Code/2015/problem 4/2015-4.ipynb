{
 "cells": [
  {
   "cell_type": "code",
   "execution_count": 1,
   "metadata": {},
   "outputs": [
    {
     "name": "stdout",
     "output_type": "stream",
     "text": [
      "254575\n",
      "1038736\n"
     ]
    }
   ],
   "source": [
    "import hashlib\n",
    " \n",
    "key = 'bgvyzdsv'\n",
    "i = 0 \n",
    "five_zero_index = six_zero_index =  0\n",
    " \n",
    "while True:\n",
    "    i += 1\n",
    "    hash = hashlib.md5((key + str(i)).encode('utf-8')).hexdigest()\n",
    "  \n",
    "    if not five_zero_index and hash.startswith('0' * 5): # if smallest hash with 5 preceding 0's has not been found increment index\n",
    "        five_zero_index = i\n",
    "    if not six_zero_index and hash.startswith('0' * 6): # if smallest hash with 6 preceding 0's has not been found increment index\n",
    "        six_zero_index = i\n",
    "    \n",
    "    if (five_zero_index and six_zero_index): #breaks when both keys are found\n",
    "        break\n",
    "\n",
    "print (five_zero_index)\n",
    "print (six_zero_index)"
   ]
  },
  {
   "cell_type": "code",
   "execution_count": null,
   "metadata": {},
   "outputs": [],
   "source": []
  }
 ],
 "metadata": {
  "kernelspec": {
   "display_name": "Python 3",
   "language": "python",
   "name": "python3"
  },
  "language_info": {
   "codemirror_mode": {
    "name": "ipython",
    "version": 3
   },
   "file_extension": ".py",
   "mimetype": "text/x-python",
   "name": "python",
   "nbconvert_exporter": "python",
   "pygments_lexer": "ipython3",
   "version": "3.6.5"
  }
 },
 "nbformat": 4,
 "nbformat_minor": 2
}
