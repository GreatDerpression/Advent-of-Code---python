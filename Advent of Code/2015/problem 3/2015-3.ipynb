{
 "cells": [
  {
   "cell_type": "code",
   "execution_count": 1,
   "metadata": {},
   "outputs": [],
   "source": [
    "def move(direction,pos):\n",
    "    if direction == '>':\n",
    "        return (pos[0], pos[1] + 1)\n",
    "    elif direction == '<':\n",
    "        return (pos[0], pos[1] - 1)\n",
    "    elif direction == '^':\n",
    "        return (pos[0] + 1, pos[1])\n",
    "    elif direction == 'v':\n",
    "        return (pos[0] - 1, pos[1])\n",
    "\n",
    "def part_1():\n",
    "    data = open(\"directions.txt\")\n",
    "    pos = (0,0)\n",
    "    houses = {pos: 1}\n",
    "    \n",
    "    for line in data:\n",
    "        for c in line:\n",
    "            pos = move(c,pos) # determines where santa 1 moves to\n",
    "\n",
    "            if houses.get(pos) == None: # adds house to the dictionary if it isn't already there\n",
    "                houses.update({pos:1})\n",
    "            else: # increments the counter if the house is already in the dictionary\n",
    "                houses.update({pos:houses.get(pos)+1}) \n",
    "        \n",
    "    return len(houses)\n",
    "    \n",
    "def part_2():\n",
    "    data = open(\"directions.txt\")\n",
    "    pos1 = (0,0) # santa 1\n",
    "    pos2 = (0,0) # santa 2\n",
    "    houses = {pos1: 1} # dictionary storing visited houses and the number of times that house is visited\n",
    "\n",
    "    turn = True # determines who's move it is\n",
    "\n",
    "    for line in data:\n",
    "        for c in line:\n",
    "            if turn == True:\n",
    "                pos1 = move(c,pos1) # determines where santa 1 moves to\n",
    "\n",
    "                if houses.get(pos1) == None: # adds house to the dictionary if it isn't already there\n",
    "                    houses.update({pos1:1})\n",
    "                else: # increments the counter if the house is already in the dictionary\n",
    "                    houses.update({pos1:houses.get(pos1)+1})  \n",
    "\n",
    "                turn = False\n",
    "            elif turn == False:\n",
    "                pos2 = move(c,pos2) # determines where santa 2 moves to\n",
    "\n",
    "                if houses.get(pos2) == None: # adds house to the dictionary if it isn't already there\n",
    "                    houses.update({pos2:1})\n",
    "                else: # increments the counter if the house is already in the dictionary\n",
    "                    houses.update({pos2:houses.get(pos2)+1})\n",
    "\n",
    "                turn = True\n",
    "    return len(houses)"
   ]
  },
  {
   "cell_type": "code",
   "execution_count": 2,
   "metadata": {},
   "outputs": [
    {
     "name": "stdout",
     "output_type": "stream",
     "text": [
      "2081 houses recieved at least 1 present\n",
      "2341 houses recieved at least 1 present\n"
     ]
    }
   ],
   "source": [
    "def main():\n",
    "    print(str(part_1()) + \" houses recieved at least 1 present\")\n",
    "    print(str(part_2()) + \" houses recieved at least 1 present\")\n",
    "if __name__ == \"__main__\":\n",
    "    main()"
   ]
  }
 ],
 "metadata": {
  "kernelspec": {
   "display_name": "Python 3",
   "language": "python",
   "name": "python3"
  },
  "language_info": {
   "codemirror_mode": {
    "name": "ipython",
    "version": 3
   },
   "file_extension": ".py",
   "mimetype": "text/x-python",
   "name": "python",
   "nbconvert_exporter": "python",
   "pygments_lexer": "ipython3",
   "version": "3.6.5"
  }
 },
 "nbformat": 4,
 "nbformat_minor": 2
}
