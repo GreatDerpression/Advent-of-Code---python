{
 "cells": [
  {
   "cell_type": "code",
   "execution_count": 1,
   "metadata": {},
   "outputs": [],
   "source": [
    "data = open(\"directions.txt\")"
   ]
  },
  {
   "cell_type": "code",
   "execution_count": 2,
   "metadata": {},
   "outputs": [],
   "source": [
    "start1 = (0,0)\n",
    "start2 = (0,0)\n",
    "houses = {start1: 1}\n",
    "while True:\n",
    "    c = data.read(1)\n",
    "    if c == '>':\n",
    "        start1 = (start1[0], start1[1] + 1)\n",
    "    elif c == '<':\n",
    "        start1 = (start1[0], start1[1] - 1)\n",
    "    elif c == '^':\n",
    "        start1 = (start1[0] + 1, start1[1])\n",
    "    elif c == 'v':\n",
    "        start1 = (start1[0] - 1, start1[1])\n",
    "    else:\n",
    "        break\n",
    "        \n",
    "    if houses.get(start1) == None:\n",
    "        houses.update({start1:1})\n",
    "        \n",
    "    c = data.read(1)\n",
    "    if c == '>':\n",
    "        start2 = (start2[0], start2[1] + 1)\n",
    "    elif c == '<':\n",
    "        start2 = (start2[0], start2[1] - 1)\n",
    "    elif c == '^':\n",
    "        start2 = (start2[0] + 1, start2[1])\n",
    "    elif c == 'v':\n",
    "        start2 = (start2[0] - 1, start2[1])\n",
    "    else:\n",
    "        break\n",
    "        \n",
    "    if houses.get(start2) == None:\n",
    "        houses.update({start2:1})"
   ]
  },
  {
   "cell_type": "code",
   "execution_count": 3,
   "metadata": {},
   "outputs": [
    {
     "name": "stdout",
     "output_type": "stream",
     "text": [
      "2341\n"
     ]
    }
   ],
   "source": [
    "print (len(houses))"
   ]
  },
  {
   "cell_type": "code",
   "execution_count": null,
   "metadata": {},
   "outputs": [],
   "source": []
  }
 ],
 "metadata": {
  "kernelspec": {
   "display_name": "Python 3",
   "language": "python",
   "name": "python3"
  },
  "language_info": {
   "codemirror_mode": {
    "name": "ipython",
    "version": 3
   },
   "file_extension": ".py",
   "mimetype": "text/x-python",
   "name": "python",
   "nbconvert_exporter": "python",
   "pygments_lexer": "ipython3",
   "version": "3.6.5"
  }
 },
 "nbformat": 4,
 "nbformat_minor": 2
}
