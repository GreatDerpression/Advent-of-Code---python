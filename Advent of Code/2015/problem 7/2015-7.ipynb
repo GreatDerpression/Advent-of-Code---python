{
 "cells": [
  {
   "cell_type": "code",
   "execution_count": 1,
   "metadata": {},
   "outputs": [],
   "source": [
    "import re"
   ]
  },
  {
   "cell_type": "code",
   "execution_count": 2,
   "metadata": {},
   "outputs": [],
   "source": [
    "def NOT(signal): \n",
    "    signal = ~signal % 65536\n",
    "    return signal\n",
    "\n",
    "def RSHIFT(signal,shift):\n",
    "    signal = signal >> shift % 65536\n",
    "    return signal\n",
    "\n",
    "def LSHIFT(signal,shift):\n",
    "    signal = signal << shift % 65536\n",
    "    return signal\n",
    "\n",
    "def AND(signal1,signal2):\n",
    "    signal = signal1 & signal2 % 65536\n",
    "    return signal\n",
    "\n",
    "def OR(signal1,signal2):\n",
    "    signal = (signal1 | signal2) % 65536\n",
    "    return signal\n",
    "\n",
    "def convert(value): #checks whether or not the value is a digit otherwise it returns the value at the given wire\n",
    "    if value.isdigit() == True:\n",
    "        return int(value)\n",
    "    else:\n",
    "        return wires.get(value)\n",
    "    \n",
    "def insert(signal,wire): # inserts the value into a given wire if the wire is not already assigned a signal\n",
    "    if wires.get(wire) == None:\n",
    "        wires.update({wire:signal})\n",
    "\n",
    "def iterate_through_commands(data): # iterates through the commands and runs the one's that have appropriate signals\n",
    "    commands = []\n",
    "    for l in data:\n",
    "        tokens = l.strip().split(' ')\n",
    "        if tokens[0] == \"NOT\": # checks for what command to run\n",
    "            if not convert(tokens[1]) == None: # makes sure that the signal is appropriate\n",
    "                insert(NOT(convert(tokens[1])),tokens[3]) # inserts the signal into the given wire\n",
    "            else:\n",
    "                commands.append(l) # otherwise the command is added to a list of commands that were not run\n",
    "        elif len(tokens) == 3:\n",
    "            if not convert(tokens[0]) == None:\n",
    "                insert(convert(tokens[0]),tokens[2])\n",
    "            else:\n",
    "                commands.append(l)\n",
    "        else:\n",
    "            if tokens[1] == \"RSHIFT\":\n",
    "                if not ((convert(tokens[0]) == None) or (convert(tokens[2]) == None)):\n",
    "                    insert(RSHIFT(convert(tokens[0]),convert(tokens[2])),tokens[4])\n",
    "                else:\n",
    "                    commands.append(l)\n",
    "            elif tokens[1] == \"LSHIFT\":\n",
    "                if not ((convert(tokens[0]) == None) or (convert(tokens[2]) == None)):\n",
    "                    insert(LSHIFT(convert(tokens[0]),convert(tokens[2])),tokens[4])\n",
    "                else:\n",
    "                    commands.append(l)\n",
    "            elif tokens[1] == \"AND\":\n",
    "                if not ((convert(tokens[0]) == None) or (convert(tokens[2]) == None)):\n",
    "                    insert(AND(convert(tokens[0]),convert(tokens[2])),tokens[4])\n",
    "                else:\n",
    "                    commands.append(l)\n",
    "            elif tokens[1] == \"OR\":\n",
    "                if not ((convert(tokens[0]) == None) or (convert(tokens[2]) == None)):\n",
    "                    insert(OR(convert(tokens[0]),convert(tokens[2])),tokens[4])\n",
    "                else:\n",
    "                    commands.append(l)\n",
    "    return commands # returns the unrun commands\n",
    "\n",
    "def run_commands(data,wires): # runs the commands until all of them have been completed\n",
    "    while True:\n",
    "        data = iterate_through_commands(data)\n",
    "        if len(data) == 0:\n",
    "            break\n",
    "            \n",
    "    return wires"
   ]
  },
  {
   "cell_type": "code",
   "execution_count": 3,
   "metadata": {},
   "outputs": [],
   "source": [
    "data = open(\"commands.txt\")\n",
    "wires = {}\n",
    "wires = run_commands(data,wires)"
   ]
  },
  {
   "cell_type": "code",
   "execution_count": 4,
   "metadata": {},
   "outputs": [
    {
     "name": "stdout",
     "output_type": "stream",
     "text": [
      "46065\n"
     ]
    }
   ],
   "source": [
    "print(wires.get('a'))"
   ]
  },
  {
   "cell_type": "code",
   "execution_count": 5,
   "metadata": {},
   "outputs": [],
   "source": [
    "data = open(\"commands.txt\")\n",
    "wires = {'b':wires.get('a')}\n",
    "wires = run_commands(data,wires)"
   ]
  },
  {
   "cell_type": "code",
   "execution_count": 6,
   "metadata": {},
   "outputs": [
    {
     "name": "stdout",
     "output_type": "stream",
     "text": [
      "14134\n"
     ]
    }
   ],
   "source": [
    "print(wires.get('a'))"
   ]
  }
 ],
 "metadata": {
  "kernelspec": {
   "display_name": "Python 3",
   "language": "python",
   "name": "python3"
  },
  "language_info": {
   "codemirror_mode": {
    "name": "ipython",
    "version": 3
   },
   "file_extension": ".py",
   "mimetype": "text/x-python",
   "name": "python",
   "nbconvert_exporter": "python",
   "pygments_lexer": "ipython3",
   "version": "3.6.5"
  }
 },
 "nbformat": 4,
 "nbformat_minor": 2
}
