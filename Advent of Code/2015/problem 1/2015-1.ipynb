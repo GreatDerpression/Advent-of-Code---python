{
 "cells": [
  {
   "cell_type": "code",
   "execution_count": 1,
   "metadata": {},
   "outputs": [],
   "source": [
    "def part_1():\n",
    "    data = open(\"doors.txt\",\"r\")\n",
    "    \n",
    "    floor = 0\n",
    "\n",
    "    while True:\n",
    "        c = data.read(1) # reads the file 1 character at a time\n",
    "        if c == '(': # up 1 floor\n",
    "            floor += 1\n",
    "        elif c == ')': # down 1 floor\n",
    "            floor -= 1\n",
    "        else: # breaks at eof\n",
    "            break\n",
    "            \n",
    "    return floor\n",
    "\n",
    "def part_2():\n",
    "    data = open(\"doors.txt\",\"r\")\n",
    "    \n",
    "    floor = 0\n",
    "    count = 0\n",
    "\n",
    "    while True:\n",
    "        c = data.read(1) # reads the file 1 character at a time\n",
    "        if c == '(': # up 1 floor\n",
    "            floor += 1\n",
    "            count += 1\n",
    "        elif c == ')': # down 1 floor\n",
    "            floor -= 1\n",
    "            count += 1\n",
    "        else: # breaks at eof\n",
    "            break\n",
    "\n",
    "        if floor < 0: # breaks if the elevator is on a basement level\n",
    "            break\n",
    "            \n",
    "    return(count)\n",
    "\n"
   ]
  },
  {
   "cell_type": "code",
   "execution_count": 2,
   "metadata": {},
   "outputs": [
    {
     "name": "stdout",
     "output_type": "stream",
     "text": [
      "The elevator stops at floor 232.\n",
      "The elevator reaches the basement after passing 1783 floors.\n"
     ]
    }
   ],
   "source": [
    "def main():\n",
    "    print(\"The elevator stops at floor \" + str(part_1()) + \".\")\n",
    "    print(\"The elevator reaches the basement after passing \" + str(part_2()) + \" floors.\")\n",
    "\n",
    "if __name__ == \"__main__\":\n",
    "    main()"
   ]
  }
 ],
 "metadata": {
  "kernelspec": {
   "display_name": "Python 3",
   "language": "python",
   "name": "python3"
  },
  "language_info": {
   "codemirror_mode": {
    "name": "ipython",
    "version": 3
   },
   "file_extension": ".py",
   "mimetype": "text/x-python",
   "name": "python",
   "nbconvert_exporter": "python",
   "pygments_lexer": "ipython3",
   "version": "3.6.5"
  }
 },
 "nbformat": 4,
 "nbformat_minor": 2
}
