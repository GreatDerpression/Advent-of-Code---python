{
 "cells": [
  {
   "cell_type": "code",
   "execution_count": 59,
   "metadata": {},
   "outputs": [
    {
     "name": "stdout",
     "output_type": "stream",
     "text": [
      "1342\n",
      "2074\n"
     ]
    }
   ],
   "source": [
    "total = 0 \n",
    "for s in open('list.txt'):\n",
    "    s = s.strip('\\n')\n",
    "    total += len(s) - len(eval(s))\n",
    "print (total)\n",
    "\n",
    "total = 0\n",
    "for s in open('list.txt'):\n",
    "    s1 = s.replace('\\\\',\"\\\\\\\\\")\n",
    "    s1 = '\\\"' + s1.replace('\\\"',\"\\\\\\\"\") + '\\\"' \n",
    "    total += len(s1) - len(s)\n",
    "print(total)"
   ]
  }
 ],
 "metadata": {
  "kernelspec": {
   "display_name": "Python 3",
   "language": "python",
   "name": "python3"
  },
  "language_info": {
   "codemirror_mode": {
    "name": "ipython",
    "version": 3
   },
   "file_extension": ".py",
   "mimetype": "text/x-python",
   "name": "python",
   "nbconvert_exporter": "python",
   "pygments_lexer": "ipython3",
   "version": "3.6.5"
  }
 },
 "nbformat": 4,
 "nbformat_minor": 2
}
